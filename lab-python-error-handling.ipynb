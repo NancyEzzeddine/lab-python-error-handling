{
 "cells": [
  {
   "cell_type": "markdown",
   "id": "25d7736c-ba17-4aff-b6bb-66eba20fbf4e",
   "metadata": {},
   "source": [
    "# Lab | Error Handling"
   ]
  },
  {
   "cell_type": "markdown",
   "id": "bc99b386-7508-47a0-bcdb-d969deaf6c8b",
   "metadata": {},
   "source": [
    "## Exercise: Error Handling for Managing Customer Orders\n",
    "\n",
    "The implementation of your code for managing customer orders assumes that the user will always enter a valid input. \n",
    "\n",
    "For example, we could modify the `initialize_inventory` function to include error handling.\n",
    "   - If the user enters an invalid quantity (e.g., a negative value or a non-numeric value), display an error message and ask them to re-enter the quantity for that product.\n",
    "   - Use a try-except block to handle the error and continue prompting the user until a valid quantity is entered.\n",
    "\n",
    "```python\n",
    "# Step 1: Define the function for initializing the inventory with error handling\n",
    "def initialize_inventory(products):\n",
    "    inventory = {}\n",
    "    for product in products:\n",
    "        valid_quantity = False\n",
    "        while not valid_quantity:\n",
    "            try:\n",
    "                quantity = int(input(f\"Enter the quantity of {product}s available: \"))\n",
    "                if quantity < 0:\n",
    "                    raise ValueError(\"Invalid quantity! Please enter a non-negative value.\")\n",
    "                valid_quantity = True\n",
    "            except ValueError as error:\n",
    "                print(f\"Error: {error}\")\n",
    "        inventory[product] = quantity\n",
    "    return inventory\n",
    "\n",
    "# Or, in another way:\n",
    "\n",
    "def initialize_inventory(products):\n",
    "    inventory = {}\n",
    "    for product in products:\n",
    "        valid_input = False\n",
    "        while not valid_input:\n",
    "            try:\n",
    "                quantity = int(input(f\"Enter the quantity of {product}s available: \"))\n",
    "                if quantity >= 0:\n",
    "                    inventory[product] = quantity\n",
    "                    valid_input = True\n",
    "                else:\n",
    "                    print(\"Quantity cannot be negative. Please enter a valid quantity.\")\n",
    "            except ValueError:\n",
    "                print(\"Invalid input. Please enter a valid quantity.\")\n",
    "    return inventory\n",
    "```\n",
    "\n",
    "Let's enhance your code by implementing error handling to handle invalid inputs.\n",
    "\n",
    "Follow the steps below to complete the exercise:\n",
    "\n",
    "2. Modify the `calculate_total_price` function to include error handling.\n",
    "   - If the user enters an invalid price (e.g., a negative value or a non-numeric value), display an error message and ask them to re-enter the price for that product.\n",
    "   - Use a try-except block to handle the error and continue prompting the user until a valid price is entered.\n",
    "\n",
    "3. Modify the `get_customer_orders` function to include error handling.\n",
    "   - If the user enters an invalid number of orders (e.g., a negative value or a non-numeric value), display an error message and ask them to re-enter the number of orders.\n",
    "   - If the user enters an invalid product name (e.g., a product name that is not in the inventory), or that doesn't have stock available, display an error message and ask them to re-enter the product name. *Hint: you will need to pass inventory as a parameter*\n",
    "   - Use a try-except block to handle the error and continue prompting the user until a valid product name is entered.\n",
    "\n",
    "4. Test your code by running the program and deliberately entering invalid quantities and product names. Make sure the error handling mechanism works as expected.\n"
   ]
  },
  {
   "cell_type": "code",
   "execution_count": 1,
   "id": "47ba8f6d-0a0f-4116-b0de-8621a8666ef9",
   "metadata": {},
   "outputs": [],
   "source": [
    "#step 1 error handling - define the function in initializing the inventory\n",
    "\n",
    "def initialize_inventory(products):\n",
    "    inventory = {}\n",
    "    for product in products:\n",
    "        valid_quantity = False\n",
    "        while not valid_quantity:\n",
    "            try:\n",
    "                quantity = int(input(f\"Enter the quantity of {product}s available: \"))\n",
    "                if quantity < 0:\n",
    "                    raise ValueError(\"Invalid quantity! Please enter a non-negative value.\")\n",
    "                valid_quantity = True\n",
    "            except ValueError as error:\n",
    "                print(f\"Error: {error}\")\n",
    "        inventory[product] = quantity\n",
    "    return inventory"
   ]
  },
  {
   "cell_type": "code",
   "execution_count": 3,
   "id": "bae2dcf2-eaeb-4ba8-98c6-339e56878ae6",
   "metadata": {},
   "outputs": [],
   "source": [
    "#step 2 error handling with calculating total price\n",
    "\n",
    "def calculate_total_price(products):\n",
    "    total_price = 0\n",
    "    for product in products:\n",
    "        while True:\n",
    "            try:\n",
    "                price = float(input(f\"Enter the price for {product}:\"))\n",
    "                if price <0:\n",
    "                    raise ValueError(\"Price cannot be negative. Please enter a valid price.\")\n",
    "                total_price+= price\n",
    "                break\n",
    "            except ValueError as e:\n",
    "                print(e)\n",
    "                print(\"Please enter a valid numeric price.\")\n",
    "\n",
    "    return total_price"
   ]
  },
  {
   "cell_type": "code",
   "execution_count": 5,
   "id": "6253583e-8386-4164-ab61-79d4c9306354",
   "metadata": {},
   "outputs": [],
   "source": [
    "#step 3 error handling with calculating customer orders \n",
    "\n",
    "def get_customer_orders (products, inventory):\n",
    "    customer_orders = set()\n",
    "    while True: \n",
    "        try:\n",
    "            num_orders = int(input(\"Enter the number of products the customer wants to order: \"))\n",
    "            if numb_orders <=0:\n",
    "                raise ValueError(\"The number of orders must be a positive integer.\")\n",
    "            for _ in range(num_orders):\n",
    "                while True:\n",
    "                    order = input(\"Enter the name of a product the customer wants to order: \")\n",
    "                    if order in products and inventory.get(order, 0)>0:\n",
    "                        customer_orders.add(order)\n",
    "                        break\n",
    "                    else:\n",
    "                        print(f\"{order} is either not available or out of stock\")\n",
    "            break\n",
    "\n",
    "        except ValueError as e:\n",
    "            print(e)\n",
    "            print(\"Please enter a valid positive number.\")\n",
    "    return customer_orders\n",
    "\n"
   ]
  },
  {
   "cell_type": "code",
   "execution_count": 9,
   "id": "93350852-64d7-468e-86f8-8ae2117459aa",
   "metadata": {},
   "outputs": [],
   "source": [
    "products = [\"t-shirt\", \"mug\", \"hat\", \"book\", \"keychain\"]\n",
    "inventory = {\"t-shirt\":10, \"mug\":5, \"hat\":0, \"book\":12, \"keychain\":3}"
   ]
  },
  {
   "cell_type": "code",
   "execution_count": 14,
   "id": "70903bca-84f0-44f8-9cdb-249dc3d86f57",
   "metadata": {},
   "outputs": [],
   "source": [
    "def simulate_customer_orders():\n",
    "    customer_orders = get_customer_orders(products, inventory)\n",
    "    print (f\"Customer Orders: {customer_orders}\")"
   ]
  },
  {
   "cell_type": "code",
   "execution_count": 16,
   "id": "a14185d2-cb6d-448c-af80-12035129391d",
   "metadata": {},
   "outputs": [
    {
     "name": "stdin",
     "output_type": "stream",
     "text": [
      "Enter the number of products the customer wants to order:  2\n"
     ]
    },
    {
     "ename": "NameError",
     "evalue": "name 'numb_orders' is not defined",
     "output_type": "error",
     "traceback": [
      "\u001b[0;31m---------------------------------------------------------------------------\u001b[0m",
      "\u001b[0;31mNameError\u001b[0m                                 Traceback (most recent call last)",
      "Cell \u001b[0;32mIn[16], line 1\u001b[0m\n\u001b[0;32m----> 1\u001b[0m simulate_customer_orders ()\n",
      "Cell \u001b[0;32mIn[14], line 2\u001b[0m, in \u001b[0;36msimulate_customer_orders\u001b[0;34m()\u001b[0m\n\u001b[1;32m      1\u001b[0m \u001b[38;5;28;01mdef\u001b[39;00m \u001b[38;5;21msimulate_customer_orders\u001b[39m():\n\u001b[0;32m----> 2\u001b[0m     customer_orders \u001b[38;5;241m=\u001b[39m get_customer_orders(products, inventory)\n\u001b[1;32m      3\u001b[0m     \u001b[38;5;28mprint\u001b[39m (\u001b[38;5;124mf\u001b[39m\u001b[38;5;124m\"\u001b[39m\u001b[38;5;124mCustomer Orders: \u001b[39m\u001b[38;5;132;01m{\u001b[39;00mcustomer_orders\u001b[38;5;132;01m}\u001b[39;00m\u001b[38;5;124m\"\u001b[39m)\n",
      "Cell \u001b[0;32mIn[5], line 8\u001b[0m, in \u001b[0;36mget_customer_orders\u001b[0;34m(products, inventory)\u001b[0m\n\u001b[1;32m      6\u001b[0m \u001b[38;5;28;01mtry\u001b[39;00m:\n\u001b[1;32m      7\u001b[0m     num_orders \u001b[38;5;241m=\u001b[39m \u001b[38;5;28mint\u001b[39m(\u001b[38;5;28minput\u001b[39m(\u001b[38;5;124m\"\u001b[39m\u001b[38;5;124mEnter the number of products the customer wants to order: \u001b[39m\u001b[38;5;124m\"\u001b[39m))\n\u001b[0;32m----> 8\u001b[0m     \u001b[38;5;28;01mif\u001b[39;00m numb_orders \u001b[38;5;241m<\u001b[39m\u001b[38;5;241m=\u001b[39m\u001b[38;5;241m0\u001b[39m:\n\u001b[1;32m      9\u001b[0m         \u001b[38;5;28;01mraise\u001b[39;00m \u001b[38;5;167;01mValueError\u001b[39;00m(\u001b[38;5;124m\"\u001b[39m\u001b[38;5;124mThe number of orders must be a positive integer.\u001b[39m\u001b[38;5;124m\"\u001b[39m)\n\u001b[1;32m     10\u001b[0m     \u001b[38;5;28;01mfor\u001b[39;00m _ \u001b[38;5;129;01min\u001b[39;00m \u001b[38;5;28mrange\u001b[39m(num_orders):\n",
      "\u001b[0;31mNameError\u001b[0m: name 'numb_orders' is not defined"
     ]
    }
   ],
   "source": [
    "simulate_customer_orders ()"
   ]
  },
  {
   "cell_type": "code",
   "execution_count": null,
   "id": "cea57009-6651-45e9-b976-39946eba4c58",
   "metadata": {},
   "outputs": [],
   "source": []
  }
 ],
 "metadata": {
  "kernelspec": {
   "display_name": "Python 3 (ipykernel)",
   "language": "python",
   "name": "python3"
  },
  "language_info": {
   "codemirror_mode": {
    "name": "ipython",
    "version": 3
   },
   "file_extension": ".py",
   "mimetype": "text/x-python",
   "name": "python",
   "nbconvert_exporter": "python",
   "pygments_lexer": "ipython3",
   "version": "3.12.4"
  }
 },
 "nbformat": 4,
 "nbformat_minor": 5
}
